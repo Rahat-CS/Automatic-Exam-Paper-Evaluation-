{
 "cells": [
  {
   "cell_type": "code",
   "execution_count": 1,
   "metadata": {},
   "outputs": [],
   "source": [
    "import pandas as pd \n",
    "import urllib\n",
    "import requests\n",
    "from bs4 import BeautifulSoup \n",
    "import re\n",
    "import PyPDF2 as pdf"
   ]
  },
  {
   "cell_type": "code",
   "execution_count": 2,
   "metadata": {},
   "outputs": [],
   "source": [
    "file=open('answer.pdf','rb')"
   ]
  },
  {
   "cell_type": "code",
   "execution_count": 3,
   "metadata": {},
   "outputs": [],
   "source": [
    "soup = ('answer.pdf')"
   ]
  },
  {
   "cell_type": "code",
   "execution_count": 4,
   "metadata": {},
   "outputs": [],
   "source": [
    "pdf_reader=pdf.PdfReader(file)"
   ]
  },
  {
   "cell_type": "code",
   "execution_count": 5,
   "metadata": {},
   "outputs": [
    {
     "name": "stdout",
     "output_type": "stream",
     "text": [
      "PDF Encrypted: No\n",
      "Number of pages: 1\n"
     ]
    }
   ],
   "source": [
    "print(f\"PDF Encrypted: {'Yes' if pdf_reader.is_encrypted else 'No'}\")\n",
    "print(f\"Number of pages: {len(pdf_reader.pages)}\")"
   ]
  },
  {
   "cell_type": "code",
   "execution_count": 6,
   "metadata": {},
   "outputs": [
    {
     "name": "stdout",
     "output_type": "stream",
     "text": [
      "['Deep spellingInitial goal was to study andimplement a hendwritten textline segmentationAnd here I come with morecomplication etuly and implementationHeckerfank']\n"
     ]
    }
   ],
   "source": [
    "page1=pdf_reader.pages[0]\n",
    "\n",
    "lines = page1.extract_text().splitlines()\n",
    "print(lines)"
   ]
  },
  {
   "cell_type": "code",
   "execution_count": 7,
   "metadata": {},
   "outputs": [],
   "source": [
    "df = pd.DataFrame(lines, columns = [\"text\"])"
   ]
  },
  {
   "cell_type": "code",
   "execution_count": 8,
   "metadata": {},
   "outputs": [],
   "source": [
    "df.replace (to_replace = [r'\\\\t|\\\\n|\\\\r','\\t|\\n|\\r'], value = ['',''],regex = True ,inplace = True )"
   ]
  },
  {
   "cell_type": "code",
   "execution_count": 9,
   "metadata": {},
   "outputs": [],
   "source": [
    "df = df.rename_axis(\"Id\", axis = 'columns')"
   ]
  },
  {
   "cell_type": "code",
   "execution_count": 10,
   "metadata": {},
   "outputs": [],
   "source": [
    "df.to_csv('random.csv',index_label=\"Id\")"
   ]
  },
  {
   "cell_type": "code",
   "execution_count": null,
   "metadata": {},
   "outputs": [],
   "source": []
  }
 ],
 "metadata": {
  "kernelspec": {
   "display_name": "Python 3",
   "language": "python",
   "name": "python3"
  },
  "language_info": {
   "codemirror_mode": {
    "name": "ipython",
    "version": 3
   },
   "file_extension": ".py",
   "mimetype": "text/x-python",
   "name": "python",
   "nbconvert_exporter": "python",
   "pygments_lexer": "ipython3",
   "version": "3.8.5"
  },
  "vscode": {
   "interpreter": {
    "hash": "257139a63baa405ed4b57f98eb83ce14b221dcf697a5ccf8108ec14e5409becc"
   }
  }
 },
 "nbformat": 4,
 "nbformat_minor": 5
}
